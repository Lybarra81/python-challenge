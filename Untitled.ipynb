{
 "cells": [
  {
   "cell_type": "code",
   "execution_count": null,
   "id": "34f59f33-d22c-41cc-b765-e98a3cc9fa63",
   "metadata": {},
   "outputs": [],
   "source": [
    "import random\n",
    "\n",
    "options = [\"r\" , \"p\", \"s\"] 3 rock paper scissor\n",
    "\n",
    "computer_chosen = random.choice(options)\n",
    "\n",
    "user_chosen = input(\"please enter r or p or s\")\n",
    "\n",
    "if (computer_chosen == \"p\" and user_chosen == \"r\"):\n",
    "    print(f\"computer chose {computer_chosen} and user chose {user_chosen}\")\n",
    "    print(f\"computer wins\")\n",
    "elif(computer_chosen == \"s\" and user_chosen == \"r\")\n",
    "    print(f\"computer chose {computer_chosen} and user chose {user_chosen}\")\n",
    "     Print "
   ]
  },
  {
   "cell_type": "markdown",
   "id": "829e6062-6de3-4a2f-9f1d-ad745df94f28",
   "metadata": {},
   "source": [
    "## cont on i/o context managers"
   ]
  },
  {
   "cell_type": "code",
   "execution_count": 3,
   "id": "55d13928-288f-4996-98d5-5d33f1b00c1f",
   "metadata": {},
   "outputs": [
    {
     "ename": "FileNotFoundError",
     "evalue": "[Errno 2] No such file or directory: './input.txt'",
     "output_type": "error",
     "traceback": [
      "\u001b[1;31m---------------------------------------------------------------------------\u001b[0m",
      "\u001b[1;31mFileNotFoundError\u001b[0m                         Traceback (most recent call last)",
      "Cell \u001b[1;32mIn[3], line 3\u001b[0m\n\u001b[0;32m      1\u001b[0m file \u001b[38;5;241m=\u001b[39m \u001b[38;5;124m\"\u001b[39m\u001b[38;5;124m./input.txt\u001b[39m\u001b[38;5;124m\"\u001b[39m\n\u001b[1;32m----> 3\u001b[0m \u001b[38;5;28;01mwith\u001b[39;00m \u001b[38;5;28mopen\u001b[39m(file, \u001b[38;5;124m\"\u001b[39m\u001b[38;5;124mr\u001b[39m\u001b[38;5;124m\"\u001b[39m) \u001b[38;5;28;01mas\u001b[39;00m textfile: \n\u001b[0;32m      4\u001b[0m     \u001b[38;5;28mprint\u001b[39m(textfile\u001b[38;5;241m.\u001b[39mread())\n",
      "File \u001b[1;32m~\\anaconda3\\Lib\\site-packages\\IPython\\core\\interactiveshell.py:310\u001b[0m, in \u001b[0;36m_modified_open\u001b[1;34m(file, *args, **kwargs)\u001b[0m\n\u001b[0;32m    303\u001b[0m \u001b[38;5;28;01mif\u001b[39;00m file \u001b[38;5;129;01min\u001b[39;00m {\u001b[38;5;241m0\u001b[39m, \u001b[38;5;241m1\u001b[39m, \u001b[38;5;241m2\u001b[39m}:\n\u001b[0;32m    304\u001b[0m     \u001b[38;5;28;01mraise\u001b[39;00m \u001b[38;5;167;01mValueError\u001b[39;00m(\n\u001b[0;32m    305\u001b[0m         \u001b[38;5;124mf\u001b[39m\u001b[38;5;124m\"\u001b[39m\u001b[38;5;124mIPython won\u001b[39m\u001b[38;5;124m'\u001b[39m\u001b[38;5;124mt let you open fd=\u001b[39m\u001b[38;5;132;01m{\u001b[39;00mfile\u001b[38;5;132;01m}\u001b[39;00m\u001b[38;5;124m by default \u001b[39m\u001b[38;5;124m\"\u001b[39m\n\u001b[0;32m    306\u001b[0m         \u001b[38;5;124m\"\u001b[39m\u001b[38;5;124mas it is likely to crash IPython. If you know what you are doing, \u001b[39m\u001b[38;5;124m\"\u001b[39m\n\u001b[0;32m    307\u001b[0m         \u001b[38;5;124m\"\u001b[39m\u001b[38;5;124myou can use builtins\u001b[39m\u001b[38;5;124m'\u001b[39m\u001b[38;5;124m open.\u001b[39m\u001b[38;5;124m\"\u001b[39m\n\u001b[0;32m    308\u001b[0m     )\n\u001b[1;32m--> 310\u001b[0m \u001b[38;5;28;01mreturn\u001b[39;00m io_open(file, \u001b[38;5;241m*\u001b[39margs, \u001b[38;5;241m*\u001b[39m\u001b[38;5;241m*\u001b[39mkwargs)\n",
      "\u001b[1;31mFileNotFoundError\u001b[0m: [Errno 2] No such file or directory: './input.txt'"
     ]
    }
   ],
   "source": [
    "file = \"./input.txt\"\n",
    "\n",
    "with open(file, \"r\") as textfile: \n",
    "    print(textfile.read())"
   ]
  },
  {
   "cell_type": "code",
   "execution_count": 5,
   "id": "26331688-75ae-4666-8ffb-cc0c9f2e488c",
   "metadata": {},
   "outputs": [
    {
     "ename": "FileNotFoundError",
     "evalue": "[Errno 2] No such file or directory: '.\\\\comic_books.csv'",
     "output_type": "error",
     "traceback": [
      "\u001b[1;31m---------------------------------------------------------------------------\u001b[0m",
      "\u001b[1;31mFileNotFoundError\u001b[0m                         Traceback (most recent call last)",
      "Cell \u001b[1;32mIn[5], line 6\u001b[0m\n\u001b[0;32m      2\u001b[0m \u001b[38;5;28;01mimport\u001b[39;00m \u001b[38;5;21;01mos\u001b[39;00m\n\u001b[0;32m      4\u001b[0m csvpath \u001b[38;5;241m=\u001b[39m os\u001b[38;5;241m.\u001b[39mpath\u001b[38;5;241m.\u001b[39mjoin(\u001b[38;5;124m\"\u001b[39m\u001b[38;5;124m.\u001b[39m\u001b[38;5;124m\"\u001b[39m,\u001b[38;5;124m\"\u001b[39m\u001b[38;5;124mcomic_books.csv\u001b[39m\u001b[38;5;124m\"\u001b[39m)\n\u001b[1;32m----> 6\u001b[0m \u001b[38;5;28;01mwith\u001b[39;00m \u001b[38;5;28mopen\u001b[39m(csvpath, \u001b[38;5;124m\"\u001b[39m\u001b[38;5;124mr\u001b[39m\u001b[38;5;124m\"\u001b[39m) \u001b[38;5;28;01mas\u001b[39;00m csvfile:\n\u001b[0;32m      7\u001b[0m     csvreader \u001b[38;5;241m=\u001b[39m csv\u001b[38;5;241m.\u001b[39mreader(csvfile, delimiter \u001b[38;5;241m=\u001b[39m \u001b[38;5;124m\"\u001b[39m\u001b[38;5;124m,\u001b[39m\u001b[38;5;124m\"\u001b[39m)\n\u001b[0;32m      8\u001b[0m     csv_header \u001b[38;5;241m=\u001b[39m \u001b[38;5;28mnext\u001b[39m(csvreader)\n",
      "File \u001b[1;32m~\\anaconda3\\Lib\\site-packages\\IPython\\core\\interactiveshell.py:310\u001b[0m, in \u001b[0;36m_modified_open\u001b[1;34m(file, *args, **kwargs)\u001b[0m\n\u001b[0;32m    303\u001b[0m \u001b[38;5;28;01mif\u001b[39;00m file \u001b[38;5;129;01min\u001b[39;00m {\u001b[38;5;241m0\u001b[39m, \u001b[38;5;241m1\u001b[39m, \u001b[38;5;241m2\u001b[39m}:\n\u001b[0;32m    304\u001b[0m     \u001b[38;5;28;01mraise\u001b[39;00m \u001b[38;5;167;01mValueError\u001b[39;00m(\n\u001b[0;32m    305\u001b[0m         \u001b[38;5;124mf\u001b[39m\u001b[38;5;124m\"\u001b[39m\u001b[38;5;124mIPython won\u001b[39m\u001b[38;5;124m'\u001b[39m\u001b[38;5;124mt let you open fd=\u001b[39m\u001b[38;5;132;01m{\u001b[39;00mfile\u001b[38;5;132;01m}\u001b[39;00m\u001b[38;5;124m by default \u001b[39m\u001b[38;5;124m\"\u001b[39m\n\u001b[0;32m    306\u001b[0m         \u001b[38;5;124m\"\u001b[39m\u001b[38;5;124mas it is likely to crash IPython. If you know what you are doing, \u001b[39m\u001b[38;5;124m\"\u001b[39m\n\u001b[0;32m    307\u001b[0m         \u001b[38;5;124m\"\u001b[39m\u001b[38;5;124myou can use builtins\u001b[39m\u001b[38;5;124m'\u001b[39m\u001b[38;5;124m open.\u001b[39m\u001b[38;5;124m\"\u001b[39m\n\u001b[0;32m    308\u001b[0m     )\n\u001b[1;32m--> 310\u001b[0m \u001b[38;5;28;01mreturn\u001b[39;00m io_open(file, \u001b[38;5;241m*\u001b[39margs, \u001b[38;5;241m*\u001b[39m\u001b[38;5;241m*\u001b[39mkwargs)\n",
      "\u001b[1;31mFileNotFoundError\u001b[0m: [Errno 2] No such file or directory: '.\\\\comic_books.csv'"
     ]
    }
   ],
   "source": [
    "import csv\n",
    "import os\n",
    "\n",
    "csvpath = os.path.join(\".\",\"comic_books.csv\")\n",
    "\n",
    "with open(csvpath, \"r\") as csvfile:\n",
    "    csvreader = csv.reader(csvfile, delimiter = \",\")\n",
    "    csv_header = next(csvreader)\n",
    "    print(csv_headers)\n",
    "    print(f\"--\"*40)\n",
    "    for x in csvreader:\n",
    "        print(x)\n",
    "    # i want to print the title in publisher"
   ]
  },
  {
   "cell_type": "markdown",
   "id": "1b7d1bb3-3dbf-4764-900f-1680869a1a1f",
   "metadata": {},
   "source": [
    "## pandas"
   ]
  },
  {
   "cell_type": "code",
   "execution_count": 6,
   "id": "58e48d81-a795-4a07-9220-c0d0fb80ab5d",
   "metadata": {},
   "outputs": [],
   "source": [
    "import pandas as pd"
   ]
  },
  {
   "cell_type": "code",
   "execution_count": 7,
   "id": "b9ba172d-7bdf-43b1-b4a6-3874a7eab4b3",
   "metadata": {},
   "outputs": [],
   "source": [
    "my_list = [\"a\", \"b\", \"c\", \"d\", \"e\", \"f\", \"g\"]"
   ]
  },
  {
   "cell_type": "code",
   "execution_count": 8,
   "id": "b255b5b1-4e18-481c-96f5-4770a053225e",
   "metadata": {},
   "outputs": [],
   "source": [
    "my_series = pd.Series(my_list)"
   ]
  },
  {
   "cell_type": "code",
   "execution_count": 9,
   "id": "f3132a65-75e5-4f6d-ae57-d7aadbcd100c",
   "metadata": {},
   "outputs": [
    {
     "data": {
      "text/plain": [
       "pandas.core.series.Series"
      ]
     },
     "execution_count": 9,
     "metadata": {},
     "output_type": "execute_result"
    }
   ],
   "source": [
    "type(my_series)"
   ]
  },
  {
   "cell_type": "code",
   "execution_count": 10,
   "id": "fbf4f19b-bf69-4f4d-9320-624fa43dccda",
   "metadata": {},
   "outputs": [
    {
     "data": {
      "text/plain": [
       "dtype('O')"
      ]
     },
     "execution_count": 10,
     "metadata": {},
     "output_type": "execute_result"
    }
   ],
   "source": [
    "my_series.dtype"
   ]
  },
  {
   "cell_type": "code",
   "execution_count": 12,
   "id": "efaf3954-ef6e-4986-abe1-98ad098d1385",
   "metadata": {},
   "outputs": [
    {
     "data": {
      "text/plain": [
       "'g'"
      ]
     },
     "execution_count": 12,
     "metadata": {},
     "output_type": "execute_result"
    }
   ],
   "source": [
    "my_series.pop(6)"
   ]
  },
  {
   "cell_type": "code",
   "execution_count": 13,
   "id": "44a6a8b7-ab24-4e51-a790-5d962af3fb51",
   "metadata": {},
   "outputs": [
    {
     "data": {
      "text/plain": [
       "0    a\n",
       "1    b\n",
       "2    c\n",
       "3    d\n",
       "4    e\n",
       "5    f\n",
       "dtype: object"
      ]
     },
     "execution_count": 13,
     "metadata": {},
     "output_type": "execute_result"
    }
   ],
   "source": [
    "my_series"
   ]
  },
  {
   "cell_type": "code",
   "execution_count": 14,
   "id": "edbb4e2d-2181-496c-bec5-af4d41469e4f",
   "metadata": {},
   "outputs": [
    {
     "data": {
      "text/plain": [
       "a    1\n",
       "b    1\n",
       "c    1\n",
       "d    1\n",
       "e    1\n",
       "f    1\n",
       "Name: count, dtype: int64"
      ]
     },
     "execution_count": 14,
     "metadata": {},
     "output_type": "execute_result"
    }
   ],
   "source": [
    "my_series.value_counts()"
   ]
  },
  {
   "cell_type": "code",
   "execution_count": 15,
   "id": "8d76d996-57d0-4279-bffc-a436171e5f5d",
   "metadata": {},
   "outputs": [
    {
     "data": {
      "text/plain": [
       "array(['a', 'b', 'c', 'd', 'e', 'f'], dtype=object)"
      ]
     },
     "execution_count": 15,
     "metadata": {},
     "output_type": "execute_result"
    }
   ],
   "source": [
    "my_series.unique()"
   ]
  },
  {
   "cell_type": "code",
   "execution_count": 16,
   "id": "7955297a-6fbc-408f-bb29-b1e3493423df",
   "metadata": {},
   "outputs": [
    {
     "data": {
      "text/plain": [
       "6"
      ]
     },
     "execution_count": 16,
     "metadata": {},
     "output_type": "execute_result"
    }
   ],
   "source": [
    "my_series.nunique()"
   ]
  },
  {
   "cell_type": "code",
   "execution_count": 17,
   "id": "fa252fe0-e656-46df-ae18-e34c97cefedc",
   "metadata": {},
   "outputs": [],
   "source": [
    "my_dict = {\n",
    "    \"msft\":160,\n",
    "    \"tsla\":190,\n",
    "    \"goog\":210,\n",
    "    \"twtr\":240\n",
    "}"
   ]
  },
  {
   "cell_type": "code",
   "execution_count": 18,
   "id": "4c6b8ef3-b294-46d4-ab06-67f7a5e4206c",
   "metadata": {},
   "outputs": [],
   "source": [
    "my_series2 = pd.Series(my_dict)"
   ]
  },
  {
   "cell_type": "code",
   "execution_count": 19,
   "id": "bf20f313-1716-4c27-90b9-e421f9b61a67",
   "metadata": {},
   "outputs": [
    {
     "data": {
      "text/plain": [
       "pandas.core.series.Series"
      ]
     },
     "execution_count": 19,
     "metadata": {},
     "output_type": "execute_result"
    }
   ],
   "source": [
    "type(my_series2)"
   ]
  },
  {
   "cell_type": "code",
   "execution_count": 21,
   "id": "886e4967-0b84-454c-a1ae-8fa13c20351f",
   "metadata": {},
   "outputs": [
    {
     "data": {
      "text/plain": [
       "dtype('int64')"
      ]
     },
     "execution_count": 21,
     "metadata": {},
     "output_type": "execute_result"
    }
   ],
   "source": [
    "my_series2.dtypes"
   ]
  },
  {
   "cell_type": "code",
   "execution_count": 22,
   "id": "71ef6b34-2973-469d-81e8-24b33c9074ef",
   "metadata": {},
   "outputs": [
    {
     "data": {
      "text/plain": [
       "160    1\n",
       "190    1\n",
       "210    1\n",
       "240    1\n",
       "Name: count, dtype: int64"
      ]
     },
     "execution_count": 22,
     "metadata": {},
     "output_type": "execute_result"
    }
   ],
   "source": [
    "my_series2.value_counts()"
   ]
  },
  {
   "cell_type": "code",
   "execution_count": 23,
   "id": "b17dfefb-5761-4dcd-adc0-378a7702fca1",
   "metadata": {},
   "outputs": [
    {
     "data": {
      "text/plain": [
       "msft    160\n",
       "tsla    190\n",
       "goog    210\n",
       "twtr    240\n",
       "dtype: int64"
      ]
     },
     "execution_count": 23,
     "metadata": {},
     "output_type": "execute_result"
    }
   ],
   "source": [
    "my_series2"
   ]
  },
  {
   "cell_type": "code",
   "execution_count": 25,
   "id": "d8dd1ec0-9e27-4cf3-8f25-0a435b9e4c02",
   "metadata": {},
   "outputs": [
    {
     "data": {
      "text/plain": [
       "240"
      ]
     },
     "execution_count": 25,
     "metadata": {},
     "output_type": "execute_result"
    }
   ],
   "source": [
    "my_series2[\"twtr\"]"
   ]
  },
  {
   "cell_type": "code",
   "execution_count": 27,
   "id": "a774e2f7-4bf5-4705-801c-07def7bb39f2",
   "metadata": {},
   "outputs": [
    {
     "data": {
      "text/plain": [
       "count      4.000000\n",
       "mean     200.000000\n",
       "std       33.665016\n",
       "min      160.000000\n",
       "25%      182.500000\n",
       "50%      200.000000\n",
       "75%      217.500000\n",
       "max      240.000000\n",
       "dtype: float64"
      ]
     },
     "execution_count": 27,
     "metadata": {},
     "output_type": "execute_result"
    }
   ],
   "source": [
    "# my_series2.describe()\n",
    "\n",
    "my_series2.describe(include = \"all\")"
   ]
  },
  {
   "cell_type": "code",
   "execution_count": 29,
   "id": "cb596f93-740c-4c70-a867-b59d63fdf07b",
   "metadata": {},
   "outputs": [
    {
     "data": {
      "text/plain": [
       "200.0"
      ]
     },
     "execution_count": 29,
     "metadata": {},
     "output_type": "execute_result"
    }
   ],
   "source": [
    "my_series2.mean()"
   ]
  },
  {
   "cell_type": "code",
   "execution_count": 31,
   "id": "6c899ce4-af24-4e14-9359-f0899ad44818",
   "metadata": {},
   "outputs": [
    {
     "data": {
      "text/plain": [
       "33.665016461206925"
      ]
     },
     "execution_count": 31,
     "metadata": {},
     "output_type": "execute_result"
    }
   ],
   "source": [
    "my_series2.std()"
   ]
  },
  {
   "cell_type": "code",
   "execution_count": 32,
   "id": "f3b161c7-d4aa-4c9a-8e31-390d78fca6b1",
   "metadata": {},
   "outputs": [
    {
     "data": {
      "text/plain": [
       "160"
      ]
     },
     "execution_count": 32,
     "metadata": {},
     "output_type": "execute_result"
    }
   ],
   "source": [
    "my_series2.min()"
   ]
  },
  {
   "cell_type": "code",
   "execution_count": 33,
   "id": "714c806d-fbe2-465b-aedb-879924f752c6",
   "metadata": {},
   "outputs": [
    {
     "data": {
      "text/plain": [
       "240"
      ]
     },
     "execution_count": 33,
     "metadata": {},
     "output_type": "execute_result"
    }
   ],
   "source": [
    "my_series2.max()"
   ]
  },
  {
   "cell_type": "code",
   "execution_count": 34,
   "id": "62aedf7f-b395-4fcd-944f-0e0258e2dd18",
   "metadata": {},
   "outputs": [
    {
     "data": {
      "text/plain": [
       "217.5"
      ]
     },
     "execution_count": 34,
     "metadata": {},
     "output_type": "execute_result"
    }
   ],
   "source": [
    "my_series2.quantile(.25)\n",
    "my_series2.quantile()\n",
    "my_series2.quantile(.75)"
   ]
  },
  {
   "cell_type": "code",
   "execution_count": 35,
   "id": "d8253ef3-7a41-4584-85ba-508e8306fb5a",
   "metadata": {},
   "outputs": [
    {
     "data": {
      "text/plain": [
       "184.3"
      ]
     },
     "execution_count": 35,
     "metadata": {},
     "output_type": "execute_result"
    }
   ],
   "source": [
    "my_series2.quantile(.27)"
   ]
  },
  {
   "cell_type": "code",
   "execution_count": 37,
   "id": "48818073-3f5e-4bbd-a041-0b9e0f1fcee2",
   "metadata": {},
   "outputs": [
    {
     "name": "stdout",
     "output_type": "stream",
     "text": [
      "160\n",
      "190\n",
      "210\n",
      "240\n"
     ]
    }
   ],
   "source": [
    "for x in my_series2:\n",
    "    print(x)"
   ]
  },
  {
   "cell_type": "code",
   "execution_count": 39,
   "id": "a7c99b02-76da-4b68-bfff-0eb7aa2ce6af",
   "metadata": {},
   "outputs": [
    {
     "name": "stdout",
     "output_type": "stream",
     "text": [
      "msft 160\n",
      "tsla 190\n",
      "goog 210\n",
      "twtr 240\n"
     ]
    }
   ],
   "source": [
    "for k, v in my_series2.items():\n",
    "    print(k,v)"
   ]
  },
  {
   "cell_type": "code",
   "execution_count": 40,
   "id": "936a8a9e-5e05-487b-9b15-67f9dd323be0",
   "metadata": {},
   "outputs": [
    {
     "data": {
      "text/plain": [
       "msft    160\n",
       "tsla    190\n",
       "goog    210\n",
       "twtr    240\n",
       "dtype: int64"
      ]
     },
     "execution_count": 40,
     "metadata": {},
     "output_type": "execute_result"
    }
   ],
   "source": [
    "my_series2.T ## T is to transpose "
   ]
  },
  {
   "cell_type": "code",
   "execution_count": 46,
   "id": "292f1794-a227-4ff6-89c2-d5f8865d67fa",
   "metadata": {},
   "outputs": [
    {
     "data": {
      "text/html": [
       "<div>\n",
       "<style scoped>\n",
       "    .dataframe tbody tr th:only-of-type {\n",
       "        vertical-align: middle;\n",
       "    }\n",
       "\n",
       "    .dataframe tbody tr th {\n",
       "        vertical-align: top;\n",
       "    }\n",
       "\n",
       "    .dataframe thead th {\n",
       "        text-align: right;\n",
       "    }\n",
       "</style>\n",
       "<table border=\"1\" class=\"dataframe\">\n",
       "  <thead>\n",
       "    <tr style=\"text-align: right;\">\n",
       "      <th></th>\n",
       "      <th>msft</th>\n",
       "      <th>tsla</th>\n",
       "      <th>goog</th>\n",
       "      <th>twtr</th>\n",
       "    </tr>\n",
       "  </thead>\n",
       "  <tbody>\n",
       "    <tr>\n",
       "      <th>0</th>\n",
       "      <td>160</td>\n",
       "      <td>190</td>\n",
       "      <td>210</td>\n",
       "      <td>240</td>\n",
       "    </tr>\n",
       "  </tbody>\n",
       "</table>\n",
       "</div>"
      ],
      "text/plain": [
       "   msft  tsla  goog  twtr\n",
       "0   160   190   210   240"
      ]
     },
     "execution_count": 46,
     "metadata": {},
     "output_type": "execute_result"
    }
   ],
   "source": [
    "pd.DataFrame([my_dict])"
   ]
  },
  {
   "cell_type": "code",
   "execution_count": 47,
   "id": "1f1c3795-a516-4f2d-a4d6-6e92dbfe81f2",
   "metadata": {},
   "outputs": [
    {
     "data": {
      "text/plain": [
       "{'msft': 160, 'tsla': 190, 'goog': 210, 'twtr': 240}"
      ]
     },
     "execution_count": 47,
     "metadata": {},
     "output_type": "execute_result"
    }
   ],
   "source": [
    "my_dict"
   ]
  },
  {
   "cell_type": "code",
   "execution_count": 48,
   "id": "c3240a82-9000-4b3f-9b72-a5c613cb28ea",
   "metadata": {},
   "outputs": [
    {
     "data": {
      "text/plain": [
       "[{'msft': 160, 'tsla': 190, 'goog': 210, 'twtr': 240}]"
      ]
     },
     "execution_count": 48,
     "metadata": {},
     "output_type": "execute_result"
    }
   ],
   "source": [
    "[my_dict]"
   ]
  },
  {
   "cell_type": "code",
   "execution_count": 49,
   "id": "77d79c83-7642-4ea3-86ce-558b9b051255",
   "metadata": {},
   "outputs": [],
   "source": [
    "my_dict2 = {\"col1\": [1,2], \"col2\":[3,4]}"
   ]
  },
  {
   "cell_type": "code",
   "execution_count": 50,
   "id": "8bf23114-10d3-4c12-b97a-48946812a7b9",
   "metadata": {},
   "outputs": [
    {
     "data": {
      "text/html": [
       "<div>\n",
       "<style scoped>\n",
       "    .dataframe tbody tr th:only-of-type {\n",
       "        vertical-align: middle;\n",
       "    }\n",
       "\n",
       "    .dataframe tbody tr th {\n",
       "        vertical-align: top;\n",
       "    }\n",
       "\n",
       "    .dataframe thead th {\n",
       "        text-align: right;\n",
       "    }\n",
       "</style>\n",
       "<table border=\"1\" class=\"dataframe\">\n",
       "  <thead>\n",
       "    <tr style=\"text-align: right;\">\n",
       "      <th></th>\n",
       "      <th>col1</th>\n",
       "      <th>col2</th>\n",
       "    </tr>\n",
       "  </thead>\n",
       "  <tbody>\n",
       "    <tr>\n",
       "      <th>0</th>\n",
       "      <td>1</td>\n",
       "      <td>3</td>\n",
       "    </tr>\n",
       "    <tr>\n",
       "      <th>1</th>\n",
       "      <td>2</td>\n",
       "      <td>4</td>\n",
       "    </tr>\n",
       "  </tbody>\n",
       "</table>\n",
       "</div>"
      ],
      "text/plain": [
       "   col1  col2\n",
       "0     1     3\n",
       "1     2     4"
      ]
     },
     "execution_count": 50,
     "metadata": {},
     "output_type": "execute_result"
    }
   ],
   "source": [
    "pd.DataFrame(my_dict2)"
   ]
  },
  {
   "cell_type": "code",
   "execution_count": null,
   "id": "e70d3df2-2773-4c7a-ab96-5954ca6f1846",
   "metadata": {},
   "outputs": [],
   "source": [
    "pd.read_csv(\"dat\")"
   ]
  }
 ],
 "metadata": {
  "kernelspec": {
   "display_name": "Python 3 (ipykernel)",
   "language": "python",
   "name": "python3"
  },
  "language_info": {
   "codemirror_mode": {
    "name": "ipython",
    "version": 3
   },
   "file_extension": ".py",
   "mimetype": "text/x-python",
   "name": "python",
   "nbconvert_exporter": "python",
   "pygments_lexer": "ipython3",
   "version": "3.11.7"
  },
  "widgets": {
   "application/vnd.jupyter.widget-state+json": {
    "state": {},
    "version_major": 2,
    "version_minor": 0
   }
  }
 },
 "nbformat": 4,
 "nbformat_minor": 5
}
