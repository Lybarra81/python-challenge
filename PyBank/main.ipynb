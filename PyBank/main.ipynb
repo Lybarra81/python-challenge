{
 "cells": [
  {
   "cell_type": "code",
   "execution_count": 44,
   "id": "f5203560-0325-4f53-be0c-415a7aa3d5a8",
   "metadata": {},
   "outputs": [],
   "source": [
    "import os\n",
    "import csv\n",
    "\n",
    "# Read the CSV path\n",
    "csvpath = os.path.join(\"..\", \"Resources\", \"budget_data.csv\")\n",
    "txtpath = os.path.join(\"../\", \"analysis\", \"budget_analysis.txt\")\n",
    "\n",
    "# Add the vaiables\n",
    "Total_months = 0\n",
    "overall_total = 0\n",
    "value = 0\n",
    "change = 0\n",
    "dates = []\n",
    "profits = []\n"
   ]
  },
  {
   "cell_type": "code",
   "execution_count": 45,
   "id": "e0467a7d-4a80-422a-9ebd-a1e55d80de27",
   "metadata": {},
   "outputs": [
    {
     "name": "stdout",
     "output_type": "stream",
     "text": [
      "Financial Analysis\n",
      "--------------------\n",
      "Total Months: 86\n",
      "Total:  $22564198\n",
      "Average Change:  $-8311.11\n",
      "Greatest Increase in Profits: Aug-16  ($1862002)\n",
      "Greatest Decrease in Profits: [48]  ($(-1825558)\n"
     ]
    }
   ],
   "source": [
    "#Opening and reading the CSV file\n",
    "with open(csvpath, newline =\"\") as csvfile:\n",
    "    csvreader = csv.reader(csvfile, delimiter=\",\")\n",
    "\n",
    "    #Reading the header row\n",
    "    csv_header = next(csvreader)\n",
    "\n",
    "    # Read first row to track changes correctly\n",
    "    first_row = next(csvreader)\n",
    "    Total_months += 1\n",
    "    overall_total += int(first_row[1])\n",
    "    value = int(first_row[1])\n",
    "\n",
    "    # Line by line\n",
    "    for row in csvreader:\n",
    "        dates.append(row[0])\n",
    "\n",
    "        #Changes\n",
    "        change = int(row[1]) -value\n",
    "        profits.append(change)\n",
    "        value = int(row[1])\n",
    "\n",
    "        #Total Months\n",
    "        Total_months += 1\n",
    "\n",
    "        # Profit/Losses total\n",
    "        overall_total = overall_total + int(row[1])\n",
    "\n",
    "greatest_increase = max(profits)\n",
    "max_increase = profits.index(greatest_increase)\n",
    "max_increase_date = dates[max_increase]\n",
    "\n",
    "greatest_decrease = min(profits)\n",
    "max_decrease = profits.index(greatest_decrease)\n",
    "max_decrease_date = [max_decrease]\n",
    "\n",
    "average_change = sum(profits)/len(profits)\n",
    "\n",
    "output = (\n",
    "    f\"Financial Analysis\\n\"\n",
    "    f\"--------------------\\n\"\n",
    "    f\"Total Months: {str(Total_months)}\\n\"\n",
    "    f\"Total:  ${str(overall_total)}\\n\"\n",
    "    f\"Average Change:  ${str(round(average_change,2))}\\n\"\n",
    "    f\"Greatest Increase in Profits: {max_increase_date}  (${str(greatest_increase)})\\n\"\n",
    "    f\"Greatest Decrease in Profits: {max_decrease_date}  ($({str(greatest_decrease)})\")\n",
    "\n",
    "with open(txtpath, 'w') as txtout:\n",
    "    print(output)\n",
    "    txtout.write(output)"
   ]
  },
  {
   "cell_type": "code",
   "execution_count": null,
   "id": "3c716f5b-f385-4743-944f-04b675607fb3",
   "metadata": {},
   "outputs": [],
   "source": []
  }
 ],
 "metadata": {
  "kernelspec": {
   "display_name": "Python 3 (ipykernel)",
   "language": "python",
   "name": "python3"
  },
  "language_info": {
   "codemirror_mode": {
    "name": "ipython",
    "version": 3
   },
   "file_extension": ".py",
   "mimetype": "text/x-python",
   "name": "python",
   "nbconvert_exporter": "python",
   "pygments_lexer": "ipython3",
   "version": "3.11.7"
  },
  "widgets": {
   "application/vnd.jupyter.widget-state+json": {
    "state": {},
    "version_major": 2,
    "version_minor": 0
   }
  }
 },
 "nbformat": 4,
 "nbformat_minor": 5
}
