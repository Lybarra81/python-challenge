{
 "cells": [
  {
   "cell_type": "code",
   "execution_count": 16,
   "id": "ba9711a1-3b95-4994-a7f4-cfd13e89619d",
   "metadata": {},
   "outputs": [],
   "source": [
    "import os\n",
    "import csv \n",
    "\n",
    "# Read the CSV path\n",
    "csvpath = os.path.join(\".\", \"Resources\", \"election_data.csv\")\n",
    "txtpath = os.path.join(\".\", \"analysis\", \"election_analysis.txt\")\n",
    "\n",
    "# Add the vaiables\n",
    "Total_votes = 0\n",
    "candidate_votes = {}\n",
    "current_candidate = \"\"\n",
    "candidates = []\n",
    "winning_candidate = \"\"\n",
    "winning_count = 0\n"
   ]
  },
  {
   "cell_type": "code",
   "execution_count": 17,
   "id": "0212f813-7f7e-457c-ba20-d56e89803280",
   "metadata": {},
   "outputs": [
    {
     "name": "stdout",
     "output_type": "stream",
     "text": [
      "Election Results\n",
      "-------------------------\n",
      "Total Votes: 369711\n",
      "-------------------------\n",
      "\n",
      "Charles Casper Stockham: 23.049% (85213)\n",
      "\n",
      "Diana DeGette: 73.812% (272892)\n",
      "\n",
      "Raymon Anthony Doane: 3.139% (11606)\n",
      "\n",
      "--------------------------\n",
      "Winner: Diana DeGette\n"
     ]
    }
   ],
   "source": [
    "#Opening and reading the CSV file\n",
    "with open(csvpath, newline = \"\") as csvfile:\n",
    "    csvreader = csv.reader(csvfile, delimiter = \",\")\n",
    "    next(csvreader)\n",
    "\n",
    "    # Looping through data rows\n",
    "    for row in csvreader:\n",
    "        Total_votes = Total_votes + 1\n",
    "        current_candidate = row[2]\n",
    "        if current_candidate not in candidates:\n",
    "            candidates.append(current_candidate)\n",
    "            candidate_votes[current_candidate] = 1\n",
    "        else:               \n",
    "            candidate_votes[current_candidate] = candidate_votes[current_candidate] + 1\n",
    "\n",
    "    \n",
    "    \n",
    "with open(txtpath,'w') as txtout:\n",
    "    print(\n",
    "    f\"Election Results\\n\"\n",
    "    f\"-------------------------\\n\"\n",
    "    f\"Total Votes: {Total_votes}\\n\"\n",
    "    f\"-------------------------\\n\")\n",
    "    txtout.write(\n",
    "    f\"Election Results\\n\"\n",
    "    f\"-------------------------\\n\"\n",
    "    f\"Total Votes: {Total_votes}\\n\"\n",
    "    f\"-------------------------\\n\")\n",
    "    \n",
    "    for candidate in candidates:\n",
    "        votes = candidate_votes[candidate]\n",
    "        vote_percentage = votes/Total_votes * 100\n",
    "        voter_output = f\"{candidate}: {vote_percentage:.3f}% ({votes})\\n\"\n",
    "        \n",
    "        print(voter_output)\n",
    "        txtout.write(voter_output)\n",
    "        if(votes > winning_count):\n",
    "            winning_candidate = candidate\n",
    "            winning_count = votes\n",
    "    print(\"--------------------------\")\n",
    "    txtout.write(\"--------------------------\\n\")\n",
    "    print(f\"Winner: {winning_candidate}\")\n",
    "    txtout.write(f\"Winner: {winning_candidate}\")"
   ]
  },
  {
   "cell_type": "code",
   "execution_count": null,
   "id": "fffae839-1ebf-4493-840d-e26b5423abba",
   "metadata": {},
   "outputs": [],
   "source": [
    "# challenge 3: print your results from challenge 2 to a text file\n",
    "\n"
   ]
  }
 ],
 "metadata": {
  "kernelspec": {
   "display_name": "Python 3 (ipykernel)",
   "language": "python",
   "name": "python3"
  },
  "language_info": {
   "codemirror_mode": {
    "name": "ipython",
    "version": 3
   },
   "file_extension": ".py",
   "mimetype": "text/x-python",
   "name": "python",
   "nbconvert_exporter": "python",
   "pygments_lexer": "ipython3",
   "version": "3.11.7"
  },
  "widgets": {
   "application/vnd.jupyter.widget-state+json": {
    "state": {},
    "version_major": 2,
    "version_minor": 0
   }
  }
 },
 "nbformat": 4,
 "nbformat_minor": 5
}
